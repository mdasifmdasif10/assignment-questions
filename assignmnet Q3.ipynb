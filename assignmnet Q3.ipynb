{
 "cells": [
  {
   "cell_type": "code",
   "execution_count": 2,
   "metadata": {},
   "outputs": [
    {
     "name": "stdout",
     "output_type": "stream",
     "text": [
      "sorted by alphabetic order\n",
      "\n",
      "[('a', ['doc2']), ('deve', ['doc2']), ('hello', ['doc1']), ('is', ['doc1', 'doc2']), ('james', ['doc1', 'doc2']), ('my', ['doc1']), ('name', ['doc1'])]\n",
      "\n",
      "sorted by length of values\n",
      "\n",
      "[('a', ['doc2']), ('deve', ['doc2']), ('hello', ['doc1']), ('my', ['doc1']), ('name', ['doc1']), ('is', ['doc1', 'doc2']), ('james', ['doc1', 'doc2'])]\n"
     ]
    }
   ],
   "source": [
    "def print_dict(data):\n",
    "    tokens =[]\n",
    "    for key, value in data.items():\n",
    "        tokens.append((key, value))\n",
    "    #sorting by alphabetic order\n",
    "    tokens= sorted(tokens, key=lambda tup: tup[0])\n",
    "    print(\"sorted by alphabetic order\\n\")\n",
    "    print(tokens)\n",
    "    #sort by length\n",
    "    tokens= sorted(tokens, key=lambda tup: len(tup[1]))\n",
    "    print(\"\\nsorted by length of values\\n\")\n",
    "    print(tokens)\n",
    "    \n",
    "data ={'hello':['doc1'], 'my':['doc1'],'name':['doc1'],'is':['doc1', 'doc2'],'james':['doc1','doc2'],'a':['doc2'],'deve':['doc2']}\n",
    "print_dict(data)"
   ]
  },
  {
   "cell_type": "code",
   "execution_count": null,
   "metadata": {},
   "outputs": [],
   "source": []
  }
 ],
 "metadata": {
  "kernelspec": {
   "display_name": "Python 3",
   "language": "python",
   "name": "python3"
  },
  "language_info": {
   "codemirror_mode": {
    "name": "ipython",
    "version": 3
   },
   "file_extension": ".py",
   "mimetype": "text/x-python",
   "name": "python",
   "nbconvert_exporter": "python",
   "pygments_lexer": "ipython3",
   "version": "3.7.6"
  }
 },
 "nbformat": 4,
 "nbformat_minor": 4
}
