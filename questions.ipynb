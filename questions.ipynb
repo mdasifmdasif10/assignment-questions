{
 "cells": [
  {
   "cell_type": "code",
   "execution_count": 4,
   "metadata": {},
   "outputs": [
    {
     "name": "stdout",
     "output_type": "stream",
     "text": [
      "enter the query((A=2 && B=3) || (C=4 && E=5))\n",
      "{\n",
      "  \"query\": {\n",
      "    \"or\": [\n",
      "      {\n",
      "        \"and\": {\n",
      "          \"A\": \"2\",\n",
      "          \"B\": \"3\"\n",
      "        }\n",
      "      },\n",
      "      {\n",
      "        \"and\": {\n",
      "          \"C\": \"4\",\n",
      "          \"E\": \"5\"\n",
      "        }\n",
      "      }\n",
      "    ]\n",
      "  }\n",
      "}\n"
     ]
    }
   ],
   "source": [
    "import json\n",
    "\n",
    "def validate_string(expr): \n",
    "    stack = []            \n",
    "    for e in expr:\n",
    "        try:\n",
    "            if e == \"(\":\n",
    "                stack.append(e)   # pushing expression into stack\n",
    "                expr = expr.replace(e, \"\")\n",
    "            elif e == \")\" and stack[-1] == \"(\":\n",
    "                stack.pop()\n",
    "                expr = expr.replace(e, \"\")\n",
    "\n",
    "        except IndexError:\n",
    "            stack.append(e)\n",
    "            break\n",
    "    return len(stack), expr\n",
    "\n",
    "\n",
    "\n",
    "def json_conversion(expr):\n",
    "    _json = {\"query\":{}}  #json convertion\n",
    "    mapper = {      \n",
    "        \"||\": \"or\",\n",
    "        \"&&\": \"and\",\n",
    "    }\n",
    "    expr_splitted = expr.split()   # ['A=2', '&&', 'B=3', '||', 'C=4', '&&', 'E=5']\n",
    "    outer_op = mapper.get(expr_splitted[3])\n",
    "    _json[\"query\"][outer_op] = []   # {'query': {'or': []}}\n",
    "    middle_split = expr.split(expr_splitted[3])       # ['A=2 && B=3 ', ' C=4 && D=5']\n",
    "    for ind, item in enumerate(middle_split):\n",
    "        inner_op = item.split()[1]     #splited by &&\n",
    "        _json[\"query\"][outer_op].append({mapper[inner_op]:{}})\n",
    "        for j in item.split(inner_op):\n",
    "            _json[\"query\"][outer_op][ind][mapper[inner_op]][j.strip()[0]] = j.strip()[-1]\n",
    "\n",
    "    print(json.dumps(_json, indent=2))\n",
    "\n",
    "\n",
    "\n",
    "#expr = \"((A=2 && B=3) || (C=4 && E=5))\"\n",
    "expr=input(\"enter the query\")\n",
    "len_stack, expr = validate_string(expr)\n",
    "if len_stack > 0:\n",
    "    print(\"Invalid Syntax\")\n",
    "else:\n",
    "    json_conversion(expr)"
   ]
  },
  {
   "cell_type": "code",
   "execution_count": 9,
   "metadata": {},
   "outputs": [
    {
     "name": "stdout",
     "output_type": "stream",
     "text": [
      "sorted list\n",
      " [('a', ['doc2']), ('deve', ['doc2']), ('hello', ['doc1']), ('my', ['doc1']), ('name', ['doc1']), ('is', ['doc1', 'doc2']), ('james', ['doc1', 'doc2'])]\n"
     ]
    }
   ],
   "source": [
    " def print_dict(data):\n",
    "\n",
    "     grouped_data = dict()\n",
    "     sorted_list = []\n",
    "     for k, v in data.items():\n",
    "         if len(v) in grouped_data:\n",
    "            grouped_data[len(v)][k] = v #storing elements by there length \n",
    "         else:\n",
    "            grouped_data[len(v)] = {k : v}\n",
    "    \n",
    "     for k, v in grouped_data.items():\n",
    "         if len(v) > 1:  # checking the length of the element\n",
    "            grouped_data_1 = sorted(grouped_data[k].items()) #sorting element by there keys\n",
    "         [sorted_list.append(i) for i in grouped_data_1]     #appending the sorted element\n",
    "     print(\"sorted list\\n\",sorted_list)\n",
    "  \n",
    "\n",
    "\n",
    " data ={'hello':['doc1'], 'my':['doc1'],'name':['doc1'],'is':['doc1', 'doc2'],'james':['doc1','doc2'],'a':['doc2'],'deve':['doc2']}\n",
    " print_dict(data)"
   ]
  },
  {
   "cell_type": "code",
   "execution_count": null,
   "metadata": {},
   "outputs": [],
   "source": []
  }
 ],
 "metadata": {
  "kernelspec": {
   "display_name": "Python 3",
   "language": "python",
   "name": "python3"
  },
  "language_info": {
   "codemirror_mode": {
    "name": "ipython",
    "version": 3
   },
   "file_extension": ".py",
   "mimetype": "text/x-python",
   "name": "python",
   "nbconvert_exporter": "python",
   "pygments_lexer": "ipython3",
   "version": "3.7.6"
  }
 },
 "nbformat": 4,
 "nbformat_minor": 4
}
